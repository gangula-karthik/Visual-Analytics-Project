{
  "nbformat": 4,
  "nbformat_minor": 0,
  "metadata": {
    "colab": {
      "provenance": []
    },
    "kernelspec": {
      "name": "python3",
      "display_name": "Python 3"
    },
    "language_info": {
      "name": "python"
    }
  },
  "cells": [
    {
      "cell_type": "code",
      "execution_count": 202,
      "metadata": {
        "colab": {
          "base_uri": "https://localhost:8080/"
        },
        "id": "Nz4emGw4X5RH",
        "outputId": "8b6341b2-4762-46ca-be08-b0c2e5c65cf6"
      },
      "outputs": [
        {
          "output_type": "execute_result",
          "data": {
            "text/plain": [
              "[\"Heart of Yew Tee - (2026-09-01)25% CompleteQueen's Arc - (2027-09-01)24% CompleteKent Heights - (2026-12-01)24% CompleteTelok Blangah Beacon - (2027-03-01)🦠 Covid19: May delay up to 18 month(s) 2028-09-0123% CompletePlantation Creek - (2026-06-01)22% CompleteRiver Peaks I & II - (2028-06-01)18% CompleteKing George’s Heights - (2027-09-01)17% CompleteYishun Beacon - (2026-06-01)17% CompleteDakota Crest - (2027-12-01)16% CompleteLakeside View - (2026-12-01)15% CompleteKim Keat Heights - (2027-09-01)13% CompleteBukit Merah Ridge - (2028-03-01)12% CompleteGhim Moh Ascent - (2028-03-01)12% CompleteSun Plaza Spring - (2026-06-01)12% CompleteWoodlands South Plains - (2027-03-01)10% CompleteKeat Hong Grange - (2026-12-01)10% CompleteJurong East Breeze - (2028-06-01)8% CompleteAlexandra Vale - (2028-06-01)8% CompleteCentral Weave @ AMK - (2028-06-01)8% CompleteHavelock Hillside - (2028-12-01)7% CompleteGarden Waterfront I & II @ Tengah - (2027-03-01)5% CompleteAranda Breeze @ Yishun - (2028-06-01)4% CompleteGhim Moh Natura - (2028-03-01)4% CompleteKallang Horizon - (2028-03-01)4% CompleteWest Glades @ Bukit Batok - (2028-03-01)4% CompleteMiltonia Breeze @ Yishun - (2029-06-01)3% CompleteVanda Breeze @ Yishun - (2029-06-01)3% CompleteQueensway Canopy - (2028-12-01)3% CompleteUlu Pandan Banks - (2029-09-01)3% Complete\"]"
            ]
          },
          "metadata": {},
          "execution_count": 202
        }
      ],
      "source": [
        "import requests\n",
        "from bs4 import BeautifulSoup\n",
        "\n",
        "# Make a request to the website\n",
        "url = \"https://www.btohq.com/bto-top-tracker/4\"\n",
        "response = requests.get(url)\n",
        "\n",
        "# Parse the HTML content\n",
        "soup = BeautifulSoup(response.content, 'html.parser')\n",
        "\n",
        "# Find all the div elements with class \"mt-15\"\n",
        "divs = soup.find_all(\"div\", class_=\"mt-15\")\n",
        "\n",
        "# Extract the text from each div element\n",
        "text = [div.text for div in divs]\n",
        "\n",
        "# Print the text\n",
        "text = [i for i in text if i != '' and i != 'Business Enquiry / Emailcontact@btohq.com']\n",
        "text"
      ]
    },
    {
      "cell_type": "code",
      "source": [
        "\n",
        "# Split the string at '% '\n",
        "split_text = [string.split(\"% \") for string in text][0][:-1]\n",
        "split_text"
      ],
      "metadata": {
        "colab": {
          "base_uri": "https://localhost:8080/"
        },
        "id": "lUs_ZpHWX6Bc",
        "outputId": "c8931378-1fce-47b7-fec6-9e6a810b8032"
      },
      "execution_count": 203,
      "outputs": [
        {
          "output_type": "execute_result",
          "data": {
            "text/plain": [
              "['Heart of Yew Tee - (2026-09-01)25',\n",
              " \"CompleteQueen's Arc - (2027-09-01)24\",\n",
              " 'CompleteKent Heights - (2026-12-01)24',\n",
              " 'CompleteTelok Blangah Beacon - (2027-03-01)🦠 Covid19: May delay up to 18 month(s) 2028-09-0123',\n",
              " 'CompletePlantation Creek - (2026-06-01)22',\n",
              " 'CompleteRiver Peaks I & II - (2028-06-01)18',\n",
              " 'CompleteKing George’s Heights - (2027-09-01)17',\n",
              " 'CompleteYishun Beacon - (2026-06-01)17',\n",
              " 'CompleteDakota Crest - (2027-12-01)16',\n",
              " 'CompleteLakeside View - (2026-12-01)15',\n",
              " 'CompleteKim Keat Heights - (2027-09-01)13',\n",
              " 'CompleteBukit Merah Ridge - (2028-03-01)12',\n",
              " 'CompleteGhim Moh Ascent - (2028-03-01)12',\n",
              " 'CompleteSun Plaza Spring - (2026-06-01)12',\n",
              " 'CompleteWoodlands South Plains - (2027-03-01)10',\n",
              " 'CompleteKeat Hong Grange - (2026-12-01)10',\n",
              " 'CompleteJurong East Breeze - (2028-06-01)8',\n",
              " 'CompleteAlexandra Vale - (2028-06-01)8',\n",
              " 'CompleteCentral Weave @ AMK - (2028-06-01)8',\n",
              " 'CompleteHavelock Hillside - (2028-12-01)7',\n",
              " 'CompleteGarden Waterfront I & II @ Tengah - (2027-03-01)5',\n",
              " 'CompleteAranda Breeze @ Yishun - (2028-06-01)4',\n",
              " 'CompleteGhim Moh Natura - (2028-03-01)4',\n",
              " 'CompleteKallang Horizon - (2028-03-01)4',\n",
              " 'CompleteWest Glades @ Bukit Batok - (2028-03-01)4',\n",
              " 'CompleteMiltonia Breeze @ Yishun - (2029-06-01)3',\n",
              " 'CompleteVanda Breeze @ Yishun - (2029-06-01)3',\n",
              " 'CompleteQueensway Canopy - (2028-12-01)3',\n",
              " 'CompleteUlu Pandan Banks - (2029-09-01)3']"
            ]
          },
          "metadata": {},
          "execution_count": 203
        }
      ]
    },
    {
      "cell_type": "code",
      "source": [
        "split_text = [i.replace(')', '').replace('(', '').replace('Complete', '').split(\"🦠 \") for i in split_text]"
      ],
      "metadata": {
        "id": "LDlLX_-5dUOn"
      },
      "execution_count": 204,
      "outputs": []
    },
    {
      "cell_type": "code",
      "source": [
        "split_text"
      ],
      "metadata": {
        "colab": {
          "base_uri": "https://localhost:8080/"
        },
        "id": "WUGsjSM1dzXh",
        "outputId": "817204f1-aca9-4c7a-ba77-81a219e1c7c0"
      },
      "execution_count": 205,
      "outputs": [
        {
          "output_type": "execute_result",
          "data": {
            "text/plain": [
              "[['Heart of Yew Tee - 2026-09-0125'],\n",
              " [\"Queen's Arc - 2027-09-0124\"],\n",
              " ['Kent Heights - 2026-12-0124'],\n",
              " ['Telok Blangah Beacon - 2027-03-01',\n",
              "  'Covid19: May delay up to 18 months 2028-09-0123'],\n",
              " ['Plantation Creek - 2026-06-0122'],\n",
              " ['River Peaks I & II - 2028-06-0118'],\n",
              " ['King George’s Heights - 2027-09-0117'],\n",
              " ['Yishun Beacon - 2026-06-0117'],\n",
              " ['Dakota Crest - 2027-12-0116'],\n",
              " ['Lakeside View - 2026-12-0115'],\n",
              " ['Kim Keat Heights - 2027-09-0113'],\n",
              " ['Bukit Merah Ridge - 2028-03-0112'],\n",
              " ['Ghim Moh Ascent - 2028-03-0112'],\n",
              " ['Sun Plaza Spring - 2026-06-0112'],\n",
              " ['Woodlands South Plains - 2027-03-0110'],\n",
              " ['Keat Hong Grange - 2026-12-0110'],\n",
              " ['Jurong East Breeze - 2028-06-018'],\n",
              " ['Alexandra Vale - 2028-06-018'],\n",
              " ['Central Weave @ AMK - 2028-06-018'],\n",
              " ['Havelock Hillside - 2028-12-017'],\n",
              " ['Garden Waterfront I & II @ Tengah - 2027-03-015'],\n",
              " ['Aranda Breeze @ Yishun - 2028-06-014'],\n",
              " ['Ghim Moh Natura - 2028-03-014'],\n",
              " ['Kallang Horizon - 2028-03-014'],\n",
              " ['West Glades @ Bukit Batok - 2028-03-014'],\n",
              " ['Miltonia Breeze @ Yishun - 2029-06-013'],\n",
              " ['Vanda Breeze @ Yishun - 2029-06-013'],\n",
              " ['Queensway Canopy - 2028-12-013'],\n",
              " ['Ulu Pandan Banks - 2029-09-013']]"
            ]
          },
          "metadata": {},
          "execution_count": 205
        }
      ]
    },
    {
      "cell_type": "code",
      "source": [
        "# import re\n",
        "\n",
        "# for i in split_text: \n",
        "#   if len(i) == 2: \n",
        "#     match = re.search(r\"(\\d{4}-\\d{2}-\\d{2})(\\d+)\", i[1])\n",
        "#     date = match.group(1)\n",
        "#     percentage = match.group(2) + \"%\"\n",
        "#     i.pop(-1)\n",
        "#     i.append(date)\n",
        "#     i.append(percentage)\n",
        "\n",
        "# split_text"
      ],
      "metadata": {
        "id": "_s_Yh3mpeysR"
      },
      "execution_count": 206,
      "outputs": []
    },
    {
      "cell_type": "code",
      "source": [
        "import re \n",
        "\n",
        "reg_dates = [i for i in split_text if len(i) == 1]\n",
        "dates_with_delays = [i for i in split_text if len(i) == 2]\n",
        "\n",
        "date_and_percentage = []\n",
        "for string in dates_with_delays:\n",
        "    match = re.search(r\"(\\d{4}-\\d{2}-\\d{2})(\\d+)\",string[1])\n",
        "    if match:\n",
        "        date = match.group(1)\n",
        "        percentage = match.group(2) + \"%\"\n",
        "        date_and_percentage.append([string[0], date, percentage])\n",
        "    else:\n",
        "        date_and_percentage.append([string[0], None, None])\n",
        "\n",
        "date_and_percentage = [string[0].split(' - ')+[string[1], string[2]] for string in date_and_percentage]\n",
        "date_and_percentage"
      ],
      "metadata": {
        "colab": {
          "base_uri": "https://localhost:8080/"
        },
        "id": "8Zf5goiJhFbR",
        "outputId": "04c3af21-f21f-4357-fb47-27fb218e6183"
      },
      "execution_count": 207,
      "outputs": [
        {
          "output_type": "execute_result",
          "data": {
            "text/plain": [
              "[['Telok Blangah Beacon', '2027-03-01', '2028-09-01', '23%']]"
            ]
          },
          "metadata": {},
          "execution_count": 207
        }
      ]
    },
    {
      "cell_type": "code",
      "source": [
        "import re\n",
        "\n",
        "\n",
        "date_and_percentage_reg = []\n",
        "for string in reg_dates:\n",
        "    match = re.search(r\"(.+)(\\d{4}-\\d{2}-\\d{2})(\\d+)\",string[0])\n",
        "    if match:\n",
        "        project_name = match.group(1)\n",
        "        date = match.group(2)\n",
        "        percentage = match.group(3) + \"%\"\n",
        "        date_and_percentage_reg.append([project_name, date, percentage])\n",
        "    else:\n",
        "        date_and_percentage_reg.append([\"N/A\", \"N/A\", \"N/A\"])\n",
        "\n",
        "date_and_percentage_reg = [[string[0].replace(' - ', ''), string[1], None, string[2]] for string in date_and_percentage_reg]\n",
        "\n",
        "date_and_percentage_reg"
      ],
      "metadata": {
        "colab": {
          "base_uri": "https://localhost:8080/"
        },
        "id": "5Xknt87aiiod",
        "outputId": "0441a441-f264-401b-9f87-1c5f152c8991"
      },
      "execution_count": 208,
      "outputs": [
        {
          "output_type": "execute_result",
          "data": {
            "text/plain": [
              "[['Heart of Yew Tee', '2026-09-01', None, '25%'],\n",
              " [\"Queen's Arc\", '2027-09-01', None, '24%'],\n",
              " ['Kent Heights', '2026-12-01', None, '24%'],\n",
              " ['Plantation Creek', '2026-06-01', None, '22%'],\n",
              " ['River Peaks I & II', '2028-06-01', None, '18%'],\n",
              " ['King George’s Heights', '2027-09-01', None, '17%'],\n",
              " ['Yishun Beacon', '2026-06-01', None, '17%'],\n",
              " ['Dakota Crest', '2027-12-01', None, '16%'],\n",
              " ['Lakeside View', '2026-12-01', None, '15%'],\n",
              " ['Kim Keat Heights', '2027-09-01', None, '13%'],\n",
              " ['Bukit Merah Ridge', '2028-03-01', None, '12%'],\n",
              " ['Ghim Moh Ascent', '2028-03-01', None, '12%'],\n",
              " ['Sun Plaza Spring', '2026-06-01', None, '12%'],\n",
              " ['Woodlands South Plains', '2027-03-01', None, '10%'],\n",
              " ['Keat Hong Grange', '2026-12-01', None, '10%'],\n",
              " ['Jurong East Breeze', '2028-06-01', None, '8%'],\n",
              " ['Alexandra Vale', '2028-06-01', None, '8%'],\n",
              " ['Central Weave @ AMK', '2028-06-01', None, '8%'],\n",
              " ['Havelock Hillside', '2028-12-01', None, '7%'],\n",
              " ['Garden Waterfront I & II @ Tengah', '2027-03-01', None, '5%'],\n",
              " ['Aranda Breeze @ Yishun', '2028-06-01', None, '4%'],\n",
              " ['Ghim Moh Natura', '2028-03-01', None, '4%'],\n",
              " ['Kallang Horizon', '2028-03-01', None, '4%'],\n",
              " ['West Glades @ Bukit Batok', '2028-03-01', None, '4%'],\n",
              " ['Miltonia Breeze @ Yishun', '2029-06-01', None, '3%'],\n",
              " ['Vanda Breeze @ Yishun', '2029-06-01', None, '3%'],\n",
              " ['Queensway Canopy', '2028-12-01', None, '3%'],\n",
              " ['Ulu Pandan Banks', '2029-09-01', None, '3%']]"
            ]
          },
          "metadata": {},
          "execution_count": 208
        }
      ]
    },
    {
      "cell_type": "code",
      "source": [
        "for i in date_and_percentage_reg: \n",
        "  date_and_percentage.append(i)"
      ],
      "metadata": {
        "id": "YFxJ6DKTjlVF"
      },
      "execution_count": 209,
      "outputs": []
    },
    {
      "cell_type": "code",
      "source": [
        "date_and_percentage"
      ],
      "metadata": {
        "colab": {
          "base_uri": "https://localhost:8080/"
        },
        "id": "1YFxypwampkN",
        "outputId": "2230db12-3f79-40ac-aba2-044030f76b6e"
      },
      "execution_count": 210,
      "outputs": [
        {
          "output_type": "execute_result",
          "data": {
            "text/plain": [
              "[['Telok Blangah Beacon', '2027-03-01', '2028-09-01', '23%'],\n",
              " ['Heart of Yew Tee', '2026-09-01', None, '25%'],\n",
              " [\"Queen's Arc\", '2027-09-01', None, '24%'],\n",
              " ['Kent Heights', '2026-12-01', None, '24%'],\n",
              " ['Plantation Creek', '2026-06-01', None, '22%'],\n",
              " ['River Peaks I & II', '2028-06-01', None, '18%'],\n",
              " ['King George’s Heights', '2027-09-01', None, '17%'],\n",
              " ['Yishun Beacon', '2026-06-01', None, '17%'],\n",
              " ['Dakota Crest', '2027-12-01', None, '16%'],\n",
              " ['Lakeside View', '2026-12-01', None, '15%'],\n",
              " ['Kim Keat Heights', '2027-09-01', None, '13%'],\n",
              " ['Bukit Merah Ridge', '2028-03-01', None, '12%'],\n",
              " ['Ghim Moh Ascent', '2028-03-01', None, '12%'],\n",
              " ['Sun Plaza Spring', '2026-06-01', None, '12%'],\n",
              " ['Woodlands South Plains', '2027-03-01', None, '10%'],\n",
              " ['Keat Hong Grange', '2026-12-01', None, '10%'],\n",
              " ['Jurong East Breeze', '2028-06-01', None, '8%'],\n",
              " ['Alexandra Vale', '2028-06-01', None, '8%'],\n",
              " ['Central Weave @ AMK', '2028-06-01', None, '8%'],\n",
              " ['Havelock Hillside', '2028-12-01', None, '7%'],\n",
              " ['Garden Waterfront I & II @ Tengah', '2027-03-01', None, '5%'],\n",
              " ['Aranda Breeze @ Yishun', '2028-06-01', None, '4%'],\n",
              " ['Ghim Moh Natura', '2028-03-01', None, '4%'],\n",
              " ['Kallang Horizon', '2028-03-01', None, '4%'],\n",
              " ['West Glades @ Bukit Batok', '2028-03-01', None, '4%'],\n",
              " ['Miltonia Breeze @ Yishun', '2029-06-01', None, '3%'],\n",
              " ['Vanda Breeze @ Yishun', '2029-06-01', None, '3%'],\n",
              " ['Queensway Canopy', '2028-12-01', None, '3%'],\n",
              " ['Ulu Pandan Banks', '2029-09-01', None, '3%']]"
            ]
          },
          "metadata": {},
          "execution_count": 210
        }
      ]
    },
    {
      "cell_type": "code",
      "source": [
        "import csv\n",
        "\n",
        "\n",
        "with open(\"BTO data.csv\", \"a\", newline=\"\") as f:\n",
        "    writer = csv.writer(f)\n",
        "    for i in date_and_percentage: \n",
        "      writer.writerow(i)"
      ],
      "metadata": {
        "id": "vBpVx4P5nELr"
      },
      "execution_count": 211,
      "outputs": []
    },
    {
      "cell_type": "code",
      "source": [],
      "metadata": {
        "id": "vxbkpOQ2oB2O"
      },
      "execution_count": 211,
      "outputs": []
    }
  ]
}